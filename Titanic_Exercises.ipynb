{
 "cells": [
  {
   "cell_type": "markdown",
   "metadata": {},
   "source": [
    "# Titanic Data Set - Statistics Review\n",
    "\n",
    "[Variable Descriptions](https://www.kaggle.com/c/titanic/data)"
   ]
  },
  {
   "cell_type": "code",
   "execution_count": 8,
   "metadata": {
    "collapsed": true
   },
   "outputs": [],
   "source": [
    "import numpy as np\n",
    "import pandas as pd\n",
    "%matplotlib inline\n",
    "import matplotlib.pyplot as plt\n"
   ]
  },
  {
   "cell_type": "markdown",
   "metadata": {},
   "source": [
    "**Describe the data. **\n",
    "- How big?\n",
    "- What are the columns and what do they mean?"
   ]
  },
  {
   "cell_type": "code",
   "execution_count": 9,
   "metadata": {
    "collapsed": false
   },
   "outputs": [
    {
     "name": "stdout",
     "output_type": "stream",
     "text": [
      "PassengerId      int64\n",
      "Survived         int64\n",
      "Pclass           int64\n",
      "Name            object\n",
      "Sex             object\n",
      "Age            float64\n",
      "SibSp            int64\n",
      "Parch            int64\n",
      "Ticket          object\n",
      "Fare           float64\n",
      "Cabin           object\n",
      "Embarked        object\n",
      "dtype: object\n"
     ]
    }
   ],
   "source": [
    "df = pd.read_csv(\"titanic.csv\")\n",
    "print(df.dtypes)"
   ]
  },
  {
   "cell_type": "markdown",
   "metadata": {},
   "source": [
    "**What’s the average age of:**\n",
    "\n",
    "- Any Titanic passenger\n",
    "- A survivor\n",
    "- A non-surviving first-class passenger\n",
    "- Male survivors older than 30 from anywhere but Queenstown"
   ]
  },
  {
   "cell_type": "code",
   "execution_count": 10,
   "metadata": {
    "collapsed": false
   },
   "outputs": [
    {
     "name": "stdout",
     "output_type": "stream",
     "text": [
      "29.69911764705882\n"
     ]
    }
   ],
   "source": [
    "print(df['Age'].mean())"
   ]
  },
  {
   "cell_type": "code",
   "execution_count": 18,
   "metadata": {
    "collapsed": false
   },
   "outputs": [
    {
     "data": {
      "text/plain": [
       "28.343689655172415"
      ]
     },
     "execution_count": 18,
     "metadata": {},
     "output_type": "execute_result"
    }
   ],
   "source": [
    "survived = df['Survived']==1\n",
    "avg_survived = df[survived]\n",
    "#print(avg_survived)\n",
    "avg_survived['Age'].mean()"
   ]
  },
  {
   "cell_type": "code",
   "execution_count": 20,
   "metadata": {
    "collapsed": false
   },
   "outputs": [
    {
     "data": {
      "text/plain": [
       "43.6953125"
      ]
     },
     "execution_count": 20,
     "metadata": {},
     "output_type": "execute_result"
    }
   ],
   "source": [
    "first_class = df['Pclass']==1\n",
    "nonsurv_first = df[(~survived) & (first_class)]\n",
    "#print(nonsurv_first)\n",
    "nonsurv_first['Age'].mean()"
   ]
  },
  {
   "cell_type": "code",
   "execution_count": 24,
   "metadata": {
    "collapsed": false
   },
   "outputs": [
    {
     "data": {
      "text/plain": [
       "41.48780487804878"
      ]
     },
     "execution_count": 24,
     "metadata": {},
     "output_type": "execute_result"
    }
   ],
   "source": [
    "male = df['Sex']=='male'\n",
    "avg_age= df[(male) & (avg_survived['Age']>30) & (avg_survived['Embarked']!='Q')]\n",
    "#print(avg_age)\n",
    "avg_age['Age'].mean()"
   ]
  },
  {
   "cell_type": "markdown",
   "metadata": {},
   "source": [
    "**For the groups from the previous task, how far (in years) are the average ages from the median ages?**"
   ]
  },
  {
   "cell_type": "code",
   "execution_count": 28,
   "metadata": {
    "collapsed": false
   },
   "outputs": [
    {
     "name": "stdout",
     "output_type": "stream",
     "text": [
      "28.0\n",
      "28.0\n",
      "45.25\n",
      "38.0\n"
     ]
    }
   ],
   "source": [
    "print(df['Age'].median())\n",
    "print(avg_survived['Age'].median())\n",
    "print(nonsurv_first['Age'].median())\n",
    "print(avg_age['Age'].median())\n"
   ]
  },
  {
   "cell_type": "markdown",
   "metadata": {},
   "source": [
    "**What’s the most common:**\n",
    "- Passenger class\n",
    "- Port of Embarkation\n",
    "- Number of siblings or spouses aboard for survivors"
   ]
  },
  {
   "cell_type": "code",
   "execution_count": 29,
   "metadata": {
    "collapsed": false
   },
   "outputs": [
    {
     "data": {
      "text/plain": [
       "0    3\n",
       "dtype: int64"
      ]
     },
     "execution_count": 29,
     "metadata": {},
     "output_type": "execute_result"
    }
   ],
   "source": [
    "df['Pclass'].mode()"
   ]
  },
  {
   "cell_type": "code",
   "execution_count": 30,
   "metadata": {
    "collapsed": false
   },
   "outputs": [
    {
     "data": {
      "text/plain": [
       "0    S\n",
       "dtype: object"
      ]
     },
     "execution_count": 30,
     "metadata": {},
     "output_type": "execute_result"
    }
   ],
   "source": [
    "df['Embarked'].mode()"
   ]
  },
  {
   "cell_type": "code",
   "execution_count": 31,
   "metadata": {
    "collapsed": false
   },
   "outputs": [
    {
     "data": {
      "text/plain": [
       "0    0\n",
       "dtype: int64"
      ]
     },
     "execution_count": 31,
     "metadata": {},
     "output_type": "execute_result"
    }
   ],
   "source": [
    "avg_survived['SibSp'].mode()"
   ]
  },
  {
   "cell_type": "markdown",
   "metadata": {},
   "source": [
    "**Within what range of standard deviations from the mean (0-1, 1-2, 2-3) is the median ticket price? Is it above or below the mean?**"
   ]
  },
  {
   "cell_type": "code",
   "execution_count": 36,
   "metadata": {
    "collapsed": false
   },
   "outputs": [
    {
     "name": "stdout",
     "output_type": "stream",
     "text": [
      "Range 0-1\n",
      "It is below the mean\n"
     ]
    }
   ],
   "source": [
    "fares = df['Fare']\n",
    "z_score = (fares.median() - fares.mean())/fares.std()\n",
    "if(0<abs(z_score)<1):\n",
    "    Range = '0-1'\n",
    "elif(1<=abs(z_score)<2):\n",
    "    Range = '1-2'\n",
    "elif(2<=abs(z_score)<3):\n",
    "    Range = '2-3'\n",
    "    \n",
    "print('Range', Range)\n",
    "print('It is {} the mean'.format(\"above\" if z_score >0 else \"below\"))\n"
   ]
  },
  {
   "cell_type": "markdown",
   "metadata": {},
   "source": [
    "**How much more expensive was the 90th percentile ticket than the 5th percentile ticket? Are they the same class?**"
   ]
  },
  {
   "cell_type": "code",
   "execution_count": 39,
   "metadata": {
    "collapsed": false
   },
   "outputs": [
    {
     "data": {
      "text/plain": [
       "70.7333"
      ]
     },
     "execution_count": 39,
     "metadata": {},
     "output_type": "execute_result"
    }
   ],
   "source": [
    "fares.quantile(0.9) - fares.quantile(0.05)"
   ]
  },
  {
   "cell_type": "code",
   "execution_count": 46,
   "metadata": {
    "collapsed": false
   },
   "outputs": [
    {
     "name": "stdout",
     "output_type": "stream",
     "text": [
      "3.0\n",
      "1.0\n"
     ]
    }
   ],
   "source": [
    "sort_fare = df.sort_values(['Fare'])\n",
    "#print(sort_fare)\n",
    "print(sort_fare.quantile(0.9)['Pclass'])\n",
    "print(sort_fare.quantile(0.05)['Pclass'])"
   ]
  },
  {
   "cell_type": "markdown",
   "metadata": {},
   "source": [
    "**The highest average ticket price was paid by passengers from which port? Null ports don’t count.**"
   ]
  },
  {
   "cell_type": "code",
   "execution_count": 49,
   "metadata": {
    "collapsed": false
   },
   "outputs": [
    {
     "data": {
      "text/plain": [
       "Cherbourg      59.954144\n",
       "Southampton    27.079812\n",
       "Queenstown     13.276030\n",
       "dtype: float64"
      ]
     },
     "execution_count": 49,
     "metadata": {},
     "output_type": "execute_result"
    }
   ],
   "source": [
    "ports = {'C': 'Cherbourg', 'Q':'Queenstown', 'S':'Southampton'}\n",
    "avg_fare_port = pd.Series()\n",
    "group_port = df.groupby('Embarked')\n",
    "for port, group in group_port:\n",
    "    avg_fare_port[ports[port]]= group['Fare'].mean()\n",
    "\n",
    "sort_port = avg_fare_port.sort_values(ascending=False)\n",
    "sort_port.head()\n",
    "    "
   ]
  },
  {
   "cell_type": "markdown",
   "metadata": {},
   "source": [
    "**What is the most common passenger class for each port?**"
   ]
  },
  {
   "cell_type": "code",
   "execution_count": 51,
   "metadata": {
    "collapsed": false
   },
   "outputs": [
    {
     "data": {
      "text/html": [
       "<div>\n",
       "<table border=\"1\" class=\"dataframe\">\n",
       "  <thead>\n",
       "    <tr style=\"text-align: right;\">\n",
       "      <th></th>\n",
       "      <th>Cherbourg</th>\n",
       "      <th>Queenstown</th>\n",
       "      <th>Southampton</th>\n",
       "    </tr>\n",
       "  </thead>\n",
       "  <tbody>\n",
       "    <tr>\n",
       "      <th>0</th>\n",
       "      <td>1</td>\n",
       "      <td>3</td>\n",
       "      <td>3</td>\n",
       "    </tr>\n",
       "  </tbody>\n",
       "</table>\n",
       "</div>"
      ],
      "text/plain": [
       "   Cherbourg  Queenstown  Southampton\n",
       "0          1           3            3"
      ]
     },
     "execution_count": 51,
     "metadata": {},
     "output_type": "execute_result"
    }
   ],
   "source": [
    "common_class = pd.DataFrame()\n",
    "for port, group in group_port:\n",
    "    common_class[ports[port]] = pd.Series(group['Pclass'].mode())\n",
    "\n",
    "common_class"
   ]
  },
  {
   "cell_type": "markdown",
   "metadata": {},
   "source": [
    "**What fraction of surviving 1st-class males paid lower than double the overall median ticket price?**"
   ]
  },
  {
   "cell_type": "code",
   "execution_count": 56,
   "metadata": {
    "collapsed": false
   },
   "outputs": [
    {
     "data": {
      "text/plain": [
       "0.24444444444444444"
      ]
     },
     "execution_count": 56,
     "metadata": {},
     "output_type": "execute_result"
    }
   ],
   "source": [
    "median_fare = df['Fare'].median()\n",
    "surv_1class_male = df[(survived) & (first_class) & (male)]\n",
    "lower = surv_1class_male[surv_1class_male['Fare']<median_fare *2]\n",
    "len(lower)/len(surv_1class_male)"
   ]
  },
  {
   "cell_type": "markdown",
   "metadata": {},
   "source": [
    "**How much older/younger was the average surviving passenger with family members than the average non-surviving passenger without them?**"
   ]
  },
  {
   "cell_type": "code",
   "execution_count": 61,
   "metadata": {
    "collapsed": false
   },
   "outputs": [
    {
     "name": "stdout",
     "output_type": "stream",
     "text": [
      "-6.888171076642337\n"
     ]
    },
    {
     "name": "stderr",
     "output_type": "stream",
     "text": [
      "//anaconda/lib/python3.6/site-packages/ipykernel/__main__.py:2: UserWarning: Boolean Series key will be reindexed to match DataFrame index.\n",
      "  from ipykernel import kernelapp as app\n"
     ]
    }
   ],
   "source": [
    "family = (df['SibSp']>0) | (df['Parch']>0)\n",
    "surv_family = avg_survived[family]\n",
    "nonsurv_nofamily = df[(~survived) & (~family)]\n",
    "difference = surv_family['Age'].mean() - nonsurv_nofamily['Age'].mean()\n",
    "print(difference)\n"
   ]
  },
  {
   "cell_type": "markdown",
   "metadata": {},
   "source": [
    "**Display the relationship (i.e. make a plot) between survival rate and the quantile of the ticket price for 20 integer quantiles.**\n",
    "- To be clearer, what I want is for you to specify 20 quantiles, and for each of those quantiles divide the number of survivors in that quantile by the total number of people in that quantile. That’ll give you the survival rate in that quantile.\n",
    "- Then plot a line of the survival rate against the ticket fare quantiles.\n",
    "- Make sure you label your axes."
   ]
  },
  {
   "cell_type": "code",
   "execution_count": 65,
   "metadata": {
    "collapsed": false
   },
   "outputs": [
    {
     "name": "stderr",
     "output_type": "stream",
     "text": [
      "//anaconda/lib/python3.6/site-packages/ipykernel/__main__.py:10: UserWarning: Boolean Series key will be reindexed to match DataFrame index.\n"
     ]
    },
    {
     "data": {
      "text/plain": [
       "<matplotlib.text.Text at 0x1127a82e8>"
      ]
     },
     "execution_count": 65,
     "metadata": {},
     "output_type": "execute_result"
    },
    {
     "data": {
      "image/png": "[encoded data removed]",
      "text/plain": [
       "<matplotlib.figure.Figure at 0x11275ea58>"
      ]
     },
     "metadata": {},
     "output_type": "display_data"
    }
   ],
   "source": [
    "import math\n",
    "surv_quant = pd.Series()\n",
    "n_quant = 20\n",
    "len_fare = len(sort_fare)\n",
    "len_quant = math.ceil(len_fare/n_quant)\n",
    "\n",
    "for i in range(0, len_fare, len_quant):\n",
    "    end = i + len_quant-1 if i+len_quant < len_fare else len_fare-1\n",
    "    quant = sort_fare[i:end]\n",
    "    surv_rate = len(quant[survived])/len(quant)\n",
    "    label = '{:.2f}:{:.2f}'.format(sort_fare.iloc[i]['Fare'],sort_fare.iloc[end]['Fare'])\n",
    "    surv_quant[label]= surv_rate\n",
    "    \n",
    "ax = surv_quant.plot(figsize=(12,5))\n",
    "ax.set_xlabel('Ticket fare quantiles')\n",
    "ax.set_ylabel('Survival rate')"
   ]
  },
  {
   "cell_type": "markdown",
   "metadata": {},
   "source": [
    "**For each of the following characteristics, find the median in the data:**\n",
    "- Age\n",
    "- Ticket price\n",
    "- Siblings/spouses\n",
    "- Parents/children"
   ]
  },
  {
   "cell_type": "code",
   "execution_count": 70,
   "metadata": {
    "collapsed": false
   },
   "outputs": [],
   "source": [
    "medians = pd.Series()\n",
    "\n",
    "medians['Age'] =(df['Age'].median())\n",
    "medians['Tkt price'] = (df['Fare'].median())\n",
    "medians['SibSp'] = (df['SibSp'].median())\n",
    "medians['Children/parents'] =(df['Parch'].median())"
   ]
  },
  {
   "cell_type": "code",
   "execution_count": 71,
   "metadata": {
    "collapsed": false
   },
   "outputs": [
    {
     "data": {
      "text/plain": [
       "Age                 28.0000\n",
       "Tkt price           14.4542\n",
       "SibSp                0.0000\n",
       "Children/parents     0.0000\n",
       "dtype: float64"
      ]
     },
     "execution_count": 71,
     "metadata": {},
     "output_type": "execute_result"
    }
   ],
   "source": [
    "medians"
   ]
  },
  {
   "cell_type": "markdown",
   "metadata": {},
   "source": [
    "**If you were to use these medians to draw numerical boundaries separating survivors from non-survivors, which of these characteristics would be the best choice and why?**"
   ]
  },
  {
   "cell_type": "code",
   "execution_count": 79,
   "metadata": {
    "collapsed": false
   },
   "outputs": [
    {
     "data": {
      "text/html": [
       "<div>\n",
       "<table border=\"1\" class=\"dataframe\">\n",
       "  <thead>\n",
       "    <tr style=\"text-align: right;\">\n",
       "      <th></th>\n",
       "      <th>Survived below median</th>\n",
       "      <th>Survived above median</th>\n",
       "      <th>difference</th>\n",
       "    </tr>\n",
       "  </thead>\n",
       "  <tbody>\n",
       "    <tr>\n",
       "      <th>Age</th>\n",
       "      <td>0.418398</td>\n",
       "      <td>0.403409</td>\n",
       "      <td>-0.014989</td>\n",
       "    </tr>\n",
       "    <tr>\n",
       "      <th>Tkt price</th>\n",
       "      <td>0.252273</td>\n",
       "      <td>0.518018</td>\n",
       "      <td>0.265745</td>\n",
       "    </tr>\n",
       "    <tr>\n",
       "      <th>SibSp</th>\n",
       "      <td>0.345395</td>\n",
       "      <td>0.466431</td>\n",
       "      <td>0.121036</td>\n",
       "    </tr>\n",
       "    <tr>\n",
       "      <th>Children/parents</th>\n",
       "      <td>0.343658</td>\n",
       "      <td>0.511737</td>\n",
       "      <td>0.168079</td>\n",
       "    </tr>\n",
       "  </tbody>\n",
       "</table>\n",
       "</div>"
      ],
      "text/plain": [
       "                  Survived below median  Survived above median  difference\n",
       "Age                            0.418398               0.403409   -0.014989\n",
       "Tkt price                      0.252273               0.518018    0.265745\n",
       "SibSp                          0.345395               0.466431    0.121036\n",
       "Children/parents               0.343658               0.511737    0.168079"
      ]
     },
     "execution_count": 79,
     "metadata": {},
     "output_type": "execute_result"
    }
   ],
   "source": [
    "def survival_ratio(series):\n",
    "    return len(series[series['Survived']==True])/len(series)\n",
    "below_median = pd.Series(name =\"Survived below median\")\n",
    "above_median = pd.Series(name =\"Survived above median\")\n",
    "\n",
    "\n",
    "below_median['Age'] = survival_ratio(df[df['Age']<medians['Age']])\n",
    "below_median['Tkt price'] = survival_ratio(df[df['Fare']<medians['Tkt price']])\n",
    "below_median['SibSp'] = survival_ratio(df[df['SibSp'] == medians['SibSp']])\n",
    "below_median['Children/parents'] = survival_ratio(df[df['Parch'] == medians['Children/parents']])\n",
    "\n",
    "above_median['Age'] = survival_ratio(df[df['Age']>medians['Age']])\n",
    "above_median['Tkt price'] = survival_ratio(df[df['Fare']>medians['Tkt price']])\n",
    "above_median['SibSp'] = survival_ratio(df[df['SibSp']>medians['SibSp']])\n",
    "above_median['Children/parents'] = survival_ratio(df[df['Parch']>medians['Children/parents']])\n",
    "\n",
    "surv_median = pd.DataFrame([below_median, above_median],\n",
    "                          columns = ['Age', 'Tkt price', 'SibSp', 'Children/parents']).transpose()\n",
    "surv_median['difference'] = above_median - below_median\n",
    "surv_median"
   ]
  },
  {
   "cell_type": "markdown",
   "metadata": {},
   "source": [
    "**Plot the distribution of passenger ages. Choose visually-meaningful bin sizes and label your axes.**"
   ]
  },
  {
   "cell_type": "code",
   "execution_count": 69,
   "metadata": {
    "collapsed": false
   },
   "outputs": [
    {
     "data": {
      "text/plain": [
       "<matplotlib.text.Text at 0x1127c7f28>"
      ]
     },
     "execution_count": 69,
     "metadata": {},
     "output_type": "execute_result"
    },
    {
     "data": {
      "image/png": "[encoded data removed]",
      "text/plain": [
       "<matplotlib.figure.Figure at 0x1164b0f98>"
      ]
     },
     "metadata": {},
     "output_type": "display_data"
    }
   ],
   "source": [
    "ax = df['Age'].hist(figsize=(10,5),bins = 10)\n",
    "ax.set_xlabel('Age')\n",
    "ax.set_ylabel('Number of passengers')"
   ]
  },
  {
   "cell_type": "markdown",
   "metadata": {},
   "source": [
    "**Find the probability that:**\n",
    "- A passenger survived\n",
    "- A passenger was male\n",
    "- A passenger was female and had at least one sibling or spouse on board\n",
    "- A survivor was from Cherbourg\n",
    "- A passenger was less than 10 years old"
   ]
  },
  {
   "cell_type": "code",
   "execution_count": 83,
   "metadata": {
    "collapsed": false
   },
   "outputs": [],
   "source": [
    "def calc_prob(predicate):\n",
    "    return len(df[predicate])/len(df)\n",
    "\n",
    "def calc_prob_age(older_than= None, younger_than = None):\n",
    "    pred = True\n",
    "    if younger_than!=None:\n",
    "        pred = (pred) & (df['Age']<younger_than)\n",
    "    if older_than!=None:\n",
    "        pred = (pred) & (df['Age']>older_than)\n",
    "    return calc_prob(pred)\n",
    "\n",
    "probs = pd.Series()\n",
    "probs['Survived'] = calc_prob(survived)\n",
    "probs['male'] = calc_prob(male)\n",
    "probs['female with atleast sibling'] = calc_prob((~male) & (df['SibSp']>0))\n",
    "probs['Cherbourg'] = calc_prob(df['Embarked'] == 'C')\n",
    "probs['Less than 10 years old'] = calc_prob_age(younger_than = 10)\n",
    "        \n",
    "        "
   ]
  },
  {
   "cell_type": "code",
   "execution_count": 84,
   "metadata": {
    "collapsed": false
   },
   "outputs": [
    {
     "data": {
      "text/plain": [
       "Survived                       0.383838\n",
       "male                           0.647587\n",
       "female with atleast sibling    0.157127\n",
       "Cherbourg                      0.188552\n",
       "Less than 10 years old         0.069585\n",
       "dtype: float64"
      ]
     },
     "execution_count": 84,
     "metadata": {},
     "output_type": "execute_result"
    }
   ],
   "source": [
    "probs"
   ]
  },
  {
   "cell_type": "markdown",
   "metadata": {},
   "source": [
    "**Knowing nothing else about the passengers aside from the survival rate of the population (see question above), if I choose 100 passengers at random from the passenger list, what's the probability that exactly 42 passengers survive?**"
   ]
  },
  {
   "cell_type": "code",
   "execution_count": 85,
   "metadata": {
    "collapsed": false
   },
   "outputs": [
    {
     "data": {
      "text/plain": [
       "0.061330411815167886"
      ]
     },
     "execution_count": 85,
     "metadata": {},
     "output_type": "execute_result"
    }
   ],
   "source": [
    "import scipy.stats as stats\n",
    "stats.binom.pmf(k=42, n=100, p=probs['Survived'])"
   ]
  },
  {
   "cell_type": "markdown",
   "metadata": {},
   "source": [
    "**What’s the probability that at least 42 of those 100 passengers survive?**"
   ]
  },
  {
   "cell_type": "code",
   "execution_count": 88,
   "metadata": {
    "collapsed": false
   },
   "outputs": [
    {
     "data": {
      "text/plain": [
       "0.74059275792738299"
      ]
     },
     "execution_count": 88,
     "metadata": {},
     "output_type": "execute_result"
    }
   ],
   "source": [
    "p_41 = stats.binom.cdf(k=41, n=100, p=probs['Survived'])\n",
    "p_42 = 1- p_41\n",
    "p_41"
   ]
  },
  {
   "cell_type": "markdown",
   "metadata": {},
   "source": [
    "**Is there a statistically significant difference between:**\n",
    "- The ages of male and female survivors?\n",
    "- The fares paid by passengers from Queenstown and the passengers from Cherbourg?\n",
    "\n",
    "**If so, at what level? If not, how do you know?**"
   ]
  },
  {
   "cell_type": "code",
   "execution_count": 90,
   "metadata": {
    "collapsed": false
   },
   "outputs": [
    {
     "name": "stderr",
     "output_type": "stream",
     "text": [
      "//anaconda/lib/python3.6/site-packages/ipykernel/__main__.py:2: UserWarning: Boolean Series key will be reindexed to match DataFrame index.\n",
      "  from ipykernel import kernelapp as app\n",
      "//anaconda/lib/python3.6/site-packages/ipykernel/__main__.py:3: UserWarning: Boolean Series key will be reindexed to match DataFrame index.\n",
      "  app.launch_new_instance()\n"
     ]
    },
    {
     "data": {
      "text/plain": [
       "Ttest_indResult(statistic=2.5258975171938896, pvalue=0.011814913211889735)"
      ]
     },
     "execution_count": 90,
     "metadata": {},
     "output_type": "execute_result"
    }
   ],
   "source": [
    "df_age_not_null = df.dropna(subset=['Age'])\n",
    "male_ages = df_age_not_null[male]['Age']\n",
    "female_ages = df_age_not_null[~male]['Age']\n",
    "stats.ttest_ind(a=male_ages, b=female_ages, equal_var=False)"
   ]
  },
  {
   "cell_type": "code",
   "execution_count": 91,
   "metadata": {
    "collapsed": false
   },
   "outputs": [
    {
     "data": {
      "text/plain": [
       "Ttest_indResult(statistic=-6.9951971047186809, pvalue=4.5792033919567422e-11)"
      ]
     },
     "execution_count": 91,
     "metadata": {},
     "output_type": "execute_result"
    }
   ],
   "source": [
    "q_fares = df[df['Embarked']=='Q']['Fare']\n",
    "c_fares = df[df['Embarked']=='C']['Fare']\n",
    "stats.ttest_ind(a=q_fares, b=c_fares, equal_var=False)"
   ]
  },
  {
   "cell_type": "markdown",
   "metadata": {},
   "source": [
    "**Accompany your p-values with histograms showing the distributions of both compared populations.**"
   ]
  },
  {
   "cell_type": "code",
   "execution_count": 92,
   "metadata": {
    "collapsed": false
   },
   "outputs": [
    {
     "data": {
      "text/plain": [
       "<matplotlib.text.Text at 0x117d914e0>"
      ]
     },
     "execution_count": 92,
     "metadata": {},
     "output_type": "execute_result"
    },
    {
     "data": {
      "image/png": "[encoded data removed]",
      "text/plain": [
       "<matplotlib.figure.Figure at 0x117d75668>"
      ]
     },
     "metadata": {},
     "output_type": "display_data"
    }
   ],
   "source": [
    "bins = range(0,100,10)\n",
    "ax=male_ages.hist(bins = bins,figsize=(8,4))\n",
    "ax = female_ages.hist(bins = bins)\n",
    "ax.set_xlabel('age(years)')\n",
    "ax.set_ylabel('# of passengers')"
   ]
  },
  {
   "cell_type": "code",
   "execution_count": 93,
   "metadata": {
    "collapsed": false
   },
   "outputs": [
    {
     "data": {
      "text/plain": [
       "<matplotlib.text.Text at 0x11670bcc0>"
      ]
     },
     "execution_count": 93,
     "metadata": {},
     "output_type": "execute_result"
    },
    {
     "data": {
      "image/png": "[encoded data removed]",
      "text/plain": [
       "<matplotlib.figure.Figure at 0x117d41d30>"
      ]
     },
     "metadata": {},
     "output_type": "display_data"
    }
   ],
   "source": [
    "bins = range(0,600,50)\n",
    "ax =c_fares.hist(bins = bins,figsize=(8,4))\n",
    "ax =q_fares.hist(bins = bins)\n",
    "ax.set_xlabel('fares')\n",
    "ax.set_ylabel('# of passengers')"
   ]
  },
  {
   "cell_type": "markdown",
   "metadata": {},
   "source": [
    "**Did survivors pay more for their tickets than those that did not? If so, to what significance level?**"
   ]
  },
  {
   "cell_type": "code",
   "execution_count": 96,
   "metadata": {
    "collapsed": false
   },
   "outputs": [
    {
     "name": "stdout",
     "output_type": "stream",
     "text": [
      "26.277520717093292\n"
     ]
    },
    {
     "data": {
      "text/plain": [
       "Ttest_indResult(statistic=6.8390992590852537, pvalue=2.6993323503141236e-11)"
      ]
     },
     "execution_count": 96,
     "metadata": {},
     "output_type": "execute_result"
    }
   ],
   "source": [
    "surv_fares = avg_survived['Fare']\n",
    "nonsurv_fares = df[~survived]['Fare']\n",
    "print(surv_fares.mean()-nonsurv_fares.mean())\n",
    "stats.ttest_ind(a=surv_fares, b=nonsurv_fares, equal_var=False)"
   ]
  },
  {
   "cell_type": "markdown",
   "metadata": {},
   "source": [
    "**Did a given first-class passenger have less family members on board than a given third-class passenger? If so, to what significance level?**"
   ]
  },
  {
   "cell_type": "code",
   "execution_count": 99,
   "metadata": {
    "collapsed": false
   },
   "outputs": [
    {
     "name": "stdout",
     "output_type": "stream",
     "text": [
      "-0.2349984913630534\n"
     ]
    },
    {
     "data": {
      "text/plain": [
       "Ttest_indResult(statistic=-2.0799075748873195, pvalue=0.037907385748521927)"
      ]
     },
     "execution_count": 99,
     "metadata": {},
     "output_type": "execute_result"
    }
   ],
   "source": [
    "df_first_class = df[first_class]\n",
    "df_third_class = df[df['Pclass']==3]\n",
    "fam_1class = df_first_class['SibSp'] + df_first_class['Parch']\n",
    "fam_3class = df_third_class['SibSp'] + df_third_class['Parch']\n",
    "\n",
    "print(fam_1class.mean() - fam_3class.mean())\n",
    "stats.ttest_ind(a=fam_1class, b=fam_3class, equal_var=False)"
   ]
  },
  {
   "cell_type": "code",
   "execution_count": null,
   "metadata": {
    "collapsed": true
   },
   "outputs": [],
   "source": []
  }
 ],
 "metadata": {
  "anaconda-cloud": {},
  "kernelspec": {
   "display_name": "Python 3",
   "language": "python",
   "name": "python3"
  },
  "language_info": {
   "codemirror_mode": {
    "name": "ipython",
    "version": 3
   },
   "file_extension": ".py",
   "mimetype": "text/x-python",
   "name": "python",
   "nbconvert_exporter": "python",
   "pygments_lexer": "ipython3",
   "version": "3.6.0"
  }
 },
 "nbformat": 4,
 "nbformat_minor": 1
}
